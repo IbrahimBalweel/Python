{
 "cells": [
  {
   "cell_type": "code",
   "execution_count": 1,
   "id": "d0423965",
   "metadata": {
    "id": "d0423965"
   },
   "outputs": [],
   "source": [
    "import pandas as pd\n",
    "import numpy as np\n",
    "import matplotlib\n",
    "import sklearn\n",
    "import nltk\n",
    "from nltk.tokenize import word_tokenize\n",
    "from nltk import pos_tag\n",
    "from nltk.corpus import stopwords\n",
    "from nltk.stem import WordNetLemmatizer\n",
    "from sklearn.preprocessing import LabelEncoder\n",
    "from sklearn import preprocessing\n",
    "from collections import defaultdict\n",
    "from nltk.corpus import wordnet as wn\n",
    "from nltk.stem.snowball import SnowballStemmer\n",
    "from sklearn.feature_extraction.text import CountVectorizer, TfidfVectorizer\n",
    "from sklearn.model_selection import train_test_split, KFold\n",
    "from sklearn import model_selection, naive_bayes, svm\n",
    "from sklearn.linear_model import LogisticRegression\n",
    "from sklearn.metrics import accuracy_score\n",
    "from matplotlib import pyplot as plt\n",
    "from wordcloud import WordCloud, STOPWORDS, ImageColorGenerator\n",
    "import string\n",
    "from sklearn.metrics import f1_score, recall_score, precision_score, confusion_matrix, classification_report\n",
    "from sklearn.ensemble import RandomForestClassifier\n",
    "from sklearn.tree import DecisionTreeClassifier\n",
    "from xgboost import XGBClassifier\n",
    "import nltk\n"
   ]
  },
  {
   "cell_type": "code",
   "execution_count": 2,
   "id": "hAbsMuLAJRcp",
   "metadata": {
    "colab": {
     "base_uri": "https://localhost:8080/"
    },
    "id": "hAbsMuLAJRcp",
    "outputId": "9043057f-2d6c-42f5-da5f-a6f6a9690a93"
   },
   "outputs": [],
   "source": [
    "# %pip install Sastrawi\n",
    "# %pip install nltk\n",
    "# %pip install PyStemmer\n",
    "# nltk.download('punkt')"
   ]
  },
  {
   "cell_type": "code",
   "execution_count": 3,
   "id": "aa6dfc77",
   "metadata": {
    "id": "aa6dfc77"
   },
   "outputs": [],
   "source": [
    "# from Sastrawi.Stemmer.StemmerFactory import StemmerFactory\n",
    "# from Sastrawi.StopWordRemover.StopWordRemoverFactory import StopWordRemoverFactory\n"
   ]
  },
  {
   "cell_type": "code",
   "execution_count": 4,
   "id": "5f15c4e3",
   "metadata": {
    "colab": {
     "base_uri": "https://localhost:8080/",
     "height": 202
    },
    "id": "5f15c4e3",
    "outputId": "74c86323-f341-40be-f47b-e5dbcc62b16b"
   },
   "outputs": [
    {
     "data": {
      "text/html": [
       "<div>\n",
       "<style scoped>\n",
       "    .dataframe tbody tr th:only-of-type {\n",
       "        vertical-align: middle;\n",
       "    }\n",
       "\n",
       "    .dataframe tbody tr th {\n",
       "        vertical-align: top;\n",
       "    }\n",
       "\n",
       "    .dataframe thead th {\n",
       "        text-align: right;\n",
       "    }\n",
       "</style>\n",
       "<table border=\"1\" class=\"dataframe\">\n",
       "  <thead>\n",
       "    <tr style=\"text-align: right;\">\n",
       "      <th></th>\n",
       "      <th>text</th>\n",
       "      <th>rating</th>\n",
       "    </tr>\n",
       "  </thead>\n",
       "  <tbody>\n",
       "    <tr>\n",
       "      <th>0</th>\n",
       "      <td>Barang sesuai pesanan dan cepat sampai</td>\n",
       "      <td>5</td>\n",
       "    </tr>\n",
       "    <tr>\n",
       "      <th>1</th>\n",
       "      <td>Barang bagus harga murah</td>\n",
       "      <td>5</td>\n",
       "    </tr>\n",
       "    <tr>\n",
       "      <th>2</th>\n",
       "      <td>Paket rapi...mantap....cepat....sampe ke tujuan</td>\n",
       "      <td>5</td>\n",
       "    </tr>\n",
       "    <tr>\n",
       "      <th>3</th>\n",
       "      <td>ya saya puas dgn barangnya</td>\n",
       "      <td>5</td>\n",
       "    </tr>\n",
       "    <tr>\n",
       "      <th>4</th>\n",
       "      <td>Responya luar biasa b mantap</td>\n",
       "      <td>5</td>\n",
       "    </tr>\n",
       "  </tbody>\n",
       "</table>\n",
       "</div>"
      ],
      "text/plain": [
       "                                              text  rating\n",
       "0           Barang sesuai pesanan dan cepat sampai       5\n",
       "1                         Barang bagus harga murah       5\n",
       "2  Paket rapi...mantap....cepat....sampe ke tujuan       5\n",
       "3                       ya saya puas dgn barangnya       5\n",
       "4                     Responya luar biasa b mantap       5"
      ]
     },
     "execution_count": 4,
     "metadata": {},
     "output_type": "execute_result"
    }
   ],
   "source": [
    "df = pd.read_csv('product_reviews_dirty.csv')\n",
    "df = df.iloc[:,1:3]\n",
    "df.head()"
   ]
  },
  {
   "cell_type": "code",
   "execution_count": 5,
   "id": "1feb0a16",
   "metadata": {
    "colab": {
     "base_uri": "https://localhost:8080/"
    },
    "id": "1feb0a16",
    "outputId": "18736ee3-b48f-40b1-ccc0-9c6dba74ad16"
   },
   "outputs": [
    {
     "data": {
      "text/plain": [
       "(40607, 2)"
      ]
     },
     "execution_count": 5,
     "metadata": {},
     "output_type": "execute_result"
    }
   ],
   "source": [
    "df.shape"
   ]
  },
  {
   "cell_type": "code",
   "execution_count": 6,
   "id": "Y8ZTK0ZVQzwT",
   "metadata": {
    "colab": {
     "base_uri": "https://localhost:8080/"
    },
    "id": "Y8ZTK0ZVQzwT",
    "outputId": "cb276d62-71fc-4f9a-81a9-ac7bee0e7b26"
   },
   "outputs": [
    {
     "name": "stdout",
     "output_type": "stream",
     "text": [
      "<class 'pandas.core.frame.DataFrame'>\n",
      "RangeIndex: 40607 entries, 0 to 40606\n",
      "Data columns (total 2 columns):\n",
      " #   Column  Non-Null Count  Dtype \n",
      "---  ------  --------------  ----- \n",
      " 0   text    40607 non-null  object\n",
      " 1   rating  40607 non-null  int64 \n",
      "dtypes: int64(1), object(1)\n",
      "memory usage: 634.6+ KB\n"
     ]
    }
   ],
   "source": [
    "df.info()"
   ]
  },
  {
   "cell_type": "markdown",
   "id": "oyFJbOmukowM",
   "metadata": {
    "id": "oyFJbOmukowM"
   },
   "source": [
    "Karena yang belum ada label positif dan negatif, maka penulis menggunakan rating dari review yang diberikan. rating 1 dan 2 dikategorikan sebagai negatif, rating 4 dan 5 sebagai positif, dan rating 3 dihapus. Distribusi label tiap tiap set bisa dilihat dibawah."
   ]
  },
  {
   "cell_type": "code",
   "execution_count": 7,
   "id": "Zdqx2kevTnu4",
   "metadata": {
    "id": "Zdqx2kevTnu4"
   },
   "outputs": [],
   "source": [
    "df = df[df['rating'] != 3]"
   ]
  },
  {
   "cell_type": "code",
   "execution_count": 8,
   "id": "736fbf86",
   "metadata": {
    "colab": {
     "base_uri": "https://localhost:8080/",
     "height": 278
    },
    "id": "736fbf86",
    "outputId": "31485c5c-dc8f-4009-fdf3-90a835166481"
   },
   "outputs": [
    {
     "data": {
      "text/plain": [
       "<AxesSubplot:>"
      ]
     },
     "execution_count": 8,
     "metadata": {},
     "output_type": "execute_result"
    },
    {
     "data": {
      "image/png": "[encoded data removed]",
      "text/plain": [
       "<Figure size 432x288 with 1 Axes>"
      ]
     },
     "metadata": {
      "needs_background": "light"
     },
     "output_type": "display_data"
    }
   ],
   "source": [
    "df['rating'].value_counts().plot(kind='bar')"
   ]
  },
  {
   "cell_type": "code",
   "execution_count": 9,
   "id": "JC1oSexwSA0T",
   "metadata": {
    "id": "JC1oSexwSA0T"
   },
   "outputs": [],
   "source": [
    "df.loc[df.rating < 3, 'rating'] = 0\n",
    "df.loc[df.rating > 3, 'rating'] = 1"
   ]
  },
  {
   "cell_type": "markdown",
   "id": "Bbsvycrvkxom",
   "metadata": {
    "id": "Bbsvycrvkxom"
   },
   "source": [
    "Setelah dikelompokan, distribusi datanya lebih banyak kategori positif review. positif dan negatif direpresentasikan sebagai 0 dan 1. Melihat distribusi datanya, maka dataset yang akan diolah mengalami masalah imbalance. Hal ini menjadi semakin menarik untuk dimodelkan, karena untuk menguji apakah model bisa membedakan dengan baik mana review yang negatif walaupun datanya sedikit."
   ]
  },
  {
   "cell_type": "code",
   "execution_count": 10,
   "id": "0083ff78",
   "metadata": {
    "colab": {
     "base_uri": "https://localhost:8080/",
     "height": 278
    },
    "id": "0083ff78",
    "outputId": "81ac9cf5-e125-4b61-9899-714736f30cc2"
   },
   "outputs": [
    {
     "data": {
      "text/plain": [
       "<AxesSubplot:>"
      ]
     },
     "execution_count": 10,
     "metadata": {},
     "output_type": "execute_result"
    },
    {
     "data": {
      "image/png": "[encoded data removed]",
      "text/plain": [
       "<Figure size 432x288 with 1 Axes>"
      ]
     },
     "metadata": {
      "needs_background": "light"
     },
     "output_type": "display_data"
    }
   ],
   "source": [
    "df['rating'].value_counts().plot(kind='bar')"
   ]
  },
  {
   "cell_type": "code",
   "execution_count": 11,
   "id": "lSiZNj8zPi1_",
   "metadata": {
    "colab": {
     "base_uri": "https://localhost:8080/"
    },
    "id": "lSiZNj8zPi1_",
    "outputId": "03e7cb8c-eb89-4338-f351-8099b0ec00c1"
   },
   "outputs": [
    {
     "data": {
      "text/plain": [
       "(38782, 2)"
      ]
     },
     "execution_count": 11,
     "metadata": {},
     "output_type": "execute_result"
    }
   ],
   "source": [
    "df.shape"
   ]
  },
  {
   "cell_type": "markdown",
   "id": "Jzi4SyooT49L",
   "metadata": {
    "id": "Jzi4SyooT49L"
   },
   "source": [
    "# Cleansing"
   ]
  },
  {
   "cell_type": "markdown",
   "id": "wStz5ddZk-sw",
   "metadata": {
    "id": "wStz5ddZk-sw"
   },
   "source": [
    "Cleansing merupakan step data yang akan diolah harus dibersihkan terlebih dahulu. Proses cleansing dalam text mining bisa berupa menghapus tanda baca seperti koma, titik, tanda seru dan lain lain. Selain itu juga jika diperlukan stopwords, stemming, lemmatization, dan top frequent dan low frequent. Dalam pemodelan ini penulis menggunakan token unigram, panjang kata lebih dari 2 dan kata merupakan alpha numeric."
   ]
  },
  {
   "cell_type": "code",
   "execution_count": 12,
   "id": "S0-Ip9XNT37_",
   "metadata": {
    "id": "S0-Ip9XNT37_"
   },
   "outputs": [],
   "source": [
    "def remove_punctuation(word):\n",
    "    for punkt in list(string.punctuation):\n",
    "        word = word.replace(punkt, '')\n",
    "        \n",
    "    return word"
   ]
  },
  {
   "cell_type": "code",
   "execution_count": 13,
   "id": "u6eHz7oxpms0",
   "metadata": {
    "id": "u6eHz7oxpms0"
   },
   "outputs": [],
   "source": [
    "df['text'] = df.text.apply(remove_punctuation)"
   ]
  },
  {
   "cell_type": "code",
   "execution_count": 14,
   "id": "KRXv6qFET3-J",
   "metadata": {
    "id": "KRXv6qFET3-J"
   },
   "outputs": [],
   "source": [
    "def cleansing(text):\n",
    "    text = text.lower()\n",
    "    word_list = word_tokenize(text)\n",
    "    word_list = [word for word in word_list if len(word) > 1]\n",
    "    word_list = [remove_punctuation(word) for word in word_list]\n",
    "    text = ' '.join(word_list)\n",
    "    \n",
    "    return text"
   ]
  },
  {
   "cell_type": "code",
   "execution_count": null,
   "id": "403571fe",
   "metadata": {},
   "outputs": [],
   "source": []
  },
  {
   "cell_type": "code",
   "execution_count": 15,
   "id": "sximK-KPT4AY",
   "metadata": {
    "id": "sximK-KPT4AY"
   },
   "outputs": [],
   "source": [
    "# df['text'] = df.text.apply(cleansing)"
   ]
  },
  {
   "cell_type": "code",
   "execution_count": 16,
   "id": "MX958Nhzc6GS",
   "metadata": {
    "id": "MX958Nhzc6GS"
   },
   "outputs": [],
   "source": [
    "# tfid_vectorizer = TfidfVectorizer()\n",
    "# tfid_vectorizer.fit(df['text'])\n",
    "# tfidf = tfid_vectorizer.transform"
   ]
  },
  {
   "cell_type": "code",
   "execution_count": 17,
   "id": "Ph0knzZ6c6In",
   "metadata": {
    "id": "Ph0knzZ6c6In"
   },
   "outputs": [],
   "source": [
    "X_train, X_test, y_train, y_test = model_selection.train_test_split(df['text'], df['rating'],test_size=0.2, random_state=42)"
   ]
  },
  {
   "cell_type": "code",
   "execution_count": 18,
   "id": "GGn7a5IkxZ3f",
   "metadata": {
    "id": "GGn7a5IkxZ3f"
   },
   "outputs": [],
   "source": [
    "# X_train = tfid_vectorizer.fit_transform(X_train)\n",
    "# X_test = tfid_vectorizer.transform(X_test)"
   ]
  },
  {
   "cell_type": "markdown",
   "id": "CThcu_g9aU1Z",
   "metadata": {
    "id": "CThcu_g9aU1Z"
   },
   "source": [
    "# Feature Extraction"
   ]
  },
  {
   "cell_type": "markdown",
   "id": "TDRwoS06tJaT",
   "metadata": {
    "id": "TDRwoS06tJaT"
   },
   "source": [
    "Feature extraction merupakan sebuah step untuk mentransformasi teks kedalam angka atau yang bisa disebut feature representation. Terdapat beragam teknik untuk merubah teks kedalam array, tapi pada dasarnya kata kata unik dalam corpus itu yang menjadi featurenya. Feature extraction yang umum digunakan dalam sklearn adalah Count Vectorizer dan TF-IDF. Selain itu juga ada word embedding yang tidak dibahas dalam artikel ini. Count Vectorizer ini mudahnya menghitung semua kejadian kata dalam satu dokumen sedangkan tf-idf memberikan bobot masing masing kata.\n"
   ]
  },
  {
   "cell_type": "code",
   "execution_count": 19,
   "id": "mjy2u4EXUACL",
   "metadata": {
    "id": "mjy2u4EXUACL"
   },
   "outputs": [],
   "source": [
    "cv = CountVectorizer()"
   ]
  },
  {
   "cell_type": "code",
   "execution_count": 20,
   "id": "DPw5NTRNUAEy",
   "metadata": {
    "id": "DPw5NTRNUAEy"
   },
   "outputs": [],
   "source": [
    "X_train = cv.fit_transform(X_train)"
   ]
  },
  {
   "cell_type": "code",
   "execution_count": 21,
   "id": "XI5WlcMgawZo",
   "metadata": {
    "id": "XI5WlcMgawZo"
   },
   "outputs": [],
   "source": [
    "X_test = cv.transform(X_test)"
   ]
  },
  {
   "cell_type": "markdown",
   "id": "3HPIK4lee4xb",
   "metadata": {
    "id": "3HPIK4lee4xb"
   },
   "source": [
    "# Model"
   ]
  },
  {
   "cell_type": "markdown",
   "id": "UwnOSghAkA5j",
   "metadata": {
    "id": "UwnOSghAkA5j"
   },
   "source": [
    "Tahap evaluasi ini untuk menentukan apakah model yang dibuat performanya sudah baik atau belum. biasanya model machine learning dikatakan bagus jika metrics yang dijadikan acuan > 85%. Angka threshold ini balik lagi ke projek awal seberapa tinggi score model ini harus dicapai."
   ]
  },
  {
   "cell_type": "markdown",
   "id": "I9O6x6Xzt0Wl",
   "metadata": {
    "id": "I9O6x6Xzt0Wl"
   },
   "source": [
    "### Naive Bayes"
   ]
  },
  {
   "cell_type": "code",
   "execution_count": 22,
   "id": "fU1-FkQAawgd",
   "metadata": {
    "colab": {
     "base_uri": "https://localhost:8080/"
    },
    "id": "fU1-FkQAawgd",
    "outputId": "73291945-53a9-41f5-f697-d22122662035"
   },
   "outputs": [
    {
     "name": "stdout",
     "output_type": "stream",
     "text": [
      "Naive Bayes Accuracy Score ->  97.76975634910403\n"
     ]
    }
   ],
   "source": [
    "Naive = naive_bayes.MultinomialNB()\n",
    "Naive.fit(X_train, y_train)\n",
    "predictions_NB = Naive.predict(X_test)\n",
    "print(\"Naive Bayes Accuracy Score -> \",accuracy_score(predictions_NB, y_test)*100)"
   ]
  },
  {
   "cell_type": "code",
   "execution_count": 23,
   "id": "X0IArfbwwmk_",
   "metadata": {
    "colab": {
     "base_uri": "https://localhost:8080/"
    },
    "id": "X0IArfbwwmk_",
    "outputId": "26943c48-7555-41a8-e73f-648752ad7ada"
   },
   "outputs": [
    {
     "name": "stdout",
     "output_type": "stream",
     "text": [
      "              precision    recall  f1-score   support\n",
      "\n",
      "           0       0.58      0.26      0.36       186\n",
      "           1       0.98      1.00      0.99      7571\n",
      "\n",
      "    accuracy                           0.98      7757\n",
      "   macro avg       0.78      0.63      0.67      7757\n",
      "weighted avg       0.97      0.98      0.97      7757\n",
      "\n"
     ]
    }
   ],
   "source": [
    "print(classification_report(y_test, predictions_NB))"
   ]
  },
  {
   "cell_type": "code",
   "execution_count": 24,
   "id": "p-RPeZ1c8Xhy",
   "metadata": {
    "colab": {
     "base_uri": "https://localhost:8080/"
    },
    "id": "p-RPeZ1c8Xhy",
    "outputId": "864b54a7-00db-4ae9-ab7a-a19f5e5238d2"
   },
   "outputs": [
    {
     "name": "stdout",
     "output_type": "stream",
     "text": [
      "f1-score :  0.9886520170547721\n",
      "precisson :  0.982017200938233\n",
      "recall :  0.995377096816801\n"
     ]
    }
   ],
   "source": [
    "print('f1-score : ',f1_score(y_test, predictions_NB))\n",
    "print('precisson : ',precision_score(y_test, predictions_NB))\n",
    "print('recall : ', recall_score(y_test, predictions_NB))"
   ]
  },
  {
   "cell_type": "code",
   "execution_count": 25,
   "id": "y0XFqynG_mmE",
   "metadata": {
    "colab": {
     "base_uri": "https://localhost:8080/"
    },
    "id": "y0XFqynG_mmE",
    "outputId": "da2530f1-37bb-4823-9a24-cc217a31c5a3"
   },
   "outputs": [
    {
     "data": {
      "text/plain": [
       "array([[  48,  138],\n",
       "       [  35, 7536]], dtype=int64)"
      ]
     },
     "execution_count": 25,
     "metadata": {},
     "output_type": "execute_result"
    }
   ],
   "source": [
    "confusion_matrix(y_test, predictions_NB, labels = [0,1])"
   ]
  },
  {
   "cell_type": "markdown",
   "id": "ZpO_c4Fgt0j7",
   "metadata": {
    "id": "ZpO_c4Fgt0j7"
   },
   "source": [
    "### SVM"
   ]
  },
  {
   "cell_type": "code",
   "execution_count": 26,
   "id": "G6cP6aYWawit",
   "metadata": {
    "colab": {
     "base_uri": "https://localhost:8080/"
    },
    "id": "G6cP6aYWawit",
    "outputId": "d9a430c2-3ad9-45fa-8c41-ff1087e29b07"
   },
   "outputs": [
    {
     "name": "stdout",
     "output_type": "stream",
     "text": [
      "SVM Accuracy Score ->  98.00180482145159\n"
     ]
    }
   ],
   "source": [
    "SVM = svm.SVC(C=1.0, kernel='linear', degree=4, gamma='auto')\n",
    "SVM.fit(X_train, y_train)\n",
    "predictions_SVM = SVM.predict(X_test)\n",
    "print(\"SVM Accuracy Score -> \",accuracy_score(predictions_SVM, y_test)*100)"
   ]
  },
  {
   "cell_type": "code",
   "execution_count": 27,
   "id": "a4UHqBi5wqGx",
   "metadata": {
    "colab": {
     "base_uri": "https://localhost:8080/"
    },
    "id": "a4UHqBi5wqGx",
    "outputId": "a9d96a19-8f82-401f-9f57-0424d77c6c8f"
   },
   "outputs": [
    {
     "name": "stdout",
     "output_type": "stream",
     "text": [
      "              precision    recall  f1-score   support\n",
      "\n",
      "           0       0.63      0.41      0.50       186\n",
      "           1       0.99      0.99      0.99      7571\n",
      "\n",
      "    accuracy                           0.98      7757\n",
      "   macro avg       0.81      0.70      0.74      7757\n",
      "weighted avg       0.98      0.98      0.98      7757\n",
      "\n"
     ]
    }
   ],
   "source": [
    "print(classification_report(y_test, predictions_SVM))"
   ]
  },
  {
   "cell_type": "code",
   "execution_count": 28,
   "id": "Ii3P6qBF0C5q",
   "metadata": {
    "colab": {
     "base_uri": "https://localhost:8080/"
    },
    "id": "Ii3P6qBF0C5q",
    "outputId": "4347b66b-886b-4c20-f916-be263b533621"
   },
   "outputs": [
    {
     "name": "stdout",
     "output_type": "stream",
     "text": [
      "f1-score :  0.9898059848733969\n",
      "precisson :  0.9857217710243646\n",
      "recall :  0.9939241843877955\n"
     ]
    }
   ],
   "source": [
    "print('f1-score : ',f1_score(y_test, predictions_SVM))\n",
    "print('precisson : ',precision_score(y_test, predictions_SVM))\n",
    "print('recall : ', recall_score(y_test, predictions_SVM))"
   ]
  },
  {
   "cell_type": "code",
   "execution_count": 29,
   "id": "0rnpkUZI_ykK",
   "metadata": {
    "colab": {
     "base_uri": "https://localhost:8080/"
    },
    "id": "0rnpkUZI_ykK",
    "outputId": "6c6535b5-2454-4fc2-cb8e-95e9e373bee9"
   },
   "outputs": [
    {
     "data": {
      "text/plain": [
       "array([[  77,  109],\n",
       "       [  46, 7525]], dtype=int64)"
      ]
     },
     "execution_count": 29,
     "metadata": {},
     "output_type": "execute_result"
    }
   ],
   "source": [
    "confusion_matrix(y_test, predictions_SVM, labels = [0,1])"
   ]
  },
  {
   "cell_type": "code",
   "execution_count": 30,
   "id": "9tmhF4kc_8dI",
   "metadata": {
    "colab": {
     "base_uri": "https://localhost:8080/"
    },
    "id": "9tmhF4kc_8dI",
    "outputId": "581ced41-db35-4d51-dd3d-f9e53bcce57f"
   },
   "outputs": [
    {
     "data": {
      "text/plain": [
       "1    7571\n",
       "0     186\n",
       "Name: rating, dtype: int64"
      ]
     },
     "execution_count": 30,
     "metadata": {},
     "output_type": "execute_result"
    }
   ],
   "source": [
    "y_test.value_counts()"
   ]
  },
  {
   "cell_type": "markdown",
   "id": "yMmTAh75tz9u",
   "metadata": {
    "id": "yMmTAh75tz9u"
   },
   "source": [
    "### Logistic Regression"
   ]
  },
  {
   "cell_type": "code",
   "execution_count": 31,
   "id": "Lwol5KZIawk-",
   "metadata": {
    "colab": {
     "base_uri": "https://localhost:8080/"
    },
    "id": "Lwol5KZIawk-",
    "outputId": "79246f2a-e13d-4d0e-f373-1c8ef51b13fb"
   },
   "outputs": [
    {
     "name": "stdout",
     "output_type": "stream",
     "text": [
      "Logistic Regression Accuracy Score ->  98.04047956684285\n"
     ]
    }
   ],
   "source": [
    "Lr = LogisticRegression(C=1)\n",
    "Lr.fit(X_train, y_train)\n",
    "predictions_Lr = Lr.predict(X_test)\n",
    "print(\"Logistic Regression Accuracy Score -> \",accuracy_score(predictions_Lr, y_test)*100)"
   ]
  },
  {
   "cell_type": "code",
   "execution_count": 32,
   "id": "J9G7uJ4cwtAi",
   "metadata": {
    "colab": {
     "base_uri": "https://localhost:8080/"
    },
    "id": "J9G7uJ4cwtAi",
    "outputId": "5c9e3240-bc15-47eb-ce9d-e686670afcb5"
   },
   "outputs": [
    {
     "name": "stdout",
     "output_type": "stream",
     "text": [
      "              precision    recall  f1-score   support\n",
      "\n",
      "           0       0.68      0.34      0.45       186\n",
      "           1       0.98      1.00      0.99      7571\n",
      "\n",
      "    accuracy                           0.98      7757\n",
      "   macro avg       0.83      0.67      0.72      7757\n",
      "weighted avg       0.98      0.98      0.98      7757\n",
      "\n"
     ]
    }
   ],
   "source": [
    "print(classification_report(y_test, predictions_Lr))"
   ]
  },
  {
   "cell_type": "code",
   "execution_count": 33,
   "id": "d_UjTpTl8AH3",
   "metadata": {
    "colab": {
     "base_uri": "https://localhost:8080/"
    },
    "id": "d_UjTpTl8AH3",
    "outputId": "6e988ceb-b845-4712-f8ec-69bb5075a696"
   },
   "outputs": [
    {
     "name": "stdout",
     "output_type": "stream",
     "text": [
      "f1-score :  0.9900236282488842\n",
      "precisson :  0.9839530332681018\n",
      "recall :  0.9961695945053494\n"
     ]
    }
   ],
   "source": [
    "print('f1-score : ',f1_score(y_test, predictions_Lr))\n",
    "print('precisson : ',precision_score(y_test, predictions_Lr))\n",
    "print('recall : ', recall_score(y_test, predictions_Lr))"
   ]
  },
  {
   "cell_type": "markdown",
   "id": "prZG7XLXvI7v",
   "metadata": {
    "id": "prZG7XLXvI7v"
   },
   "source": [
    "### Random Forest"
   ]
  },
  {
   "cell_type": "code",
   "execution_count": 34,
   "id": "R5cn8ScZvHdd",
   "metadata": {
    "colab": {
     "base_uri": "https://localhost:8080/"
    },
    "id": "R5cn8ScZvHdd",
    "outputId": "b4e1e757-fa89-4ab0-9431-1e8020110f8c"
   },
   "outputs": [
    {
     "name": "stdout",
     "output_type": "stream",
     "text": [
      "Random Forest Accuracy Score ->  97.87288900348072\n"
     ]
    }
   ],
   "source": [
    "rf = RandomForestClassifier(n_estimators=100)\n",
    "rf.fit(X_train,y_train)\n",
    "predictions_rf = rf.predict(X_test)\n",
    "print(\"Random Forest Accuracy Score -> \",accuracy_score(predictions_rf, y_test)*100)"
   ]
  },
  {
   "cell_type": "code",
   "execution_count": 35,
   "id": "yo9Jz1d1wwZh",
   "metadata": {
    "colab": {
     "base_uri": "https://localhost:8080/"
    },
    "id": "yo9Jz1d1wwZh",
    "outputId": "0a25e703-7a09-4b03-e9ba-2013dce2df5c"
   },
   "outputs": [
    {
     "name": "stdout",
     "output_type": "stream",
     "text": [
      "              precision    recall  f1-score   support\n",
      "\n",
      "           0       0.86      0.13      0.23       186\n",
      "           1       0.98      1.00      0.99      7571\n",
      "\n",
      "    accuracy                           0.98      7757\n",
      "   macro avg       0.92      0.57      0.61      7757\n",
      "weighted avg       0.98      0.98      0.97      7757\n",
      "\n"
     ]
    }
   ],
   "source": [
    "print(classification_report(y_test, predictions_rf))"
   ]
  },
  {
   "cell_type": "code",
   "execution_count": 36,
   "id": "FkaKEGJi8FU5",
   "metadata": {
    "colab": {
     "base_uri": "https://localhost:8080/"
    },
    "id": "FkaKEGJi8FU5",
    "outputId": "3e6c7cfb-4700-4086-9ab5-1d84406a1ce8"
   },
   "outputs": [
    {
     "name": "stdout",
     "output_type": "stream",
     "text": [
      "f1-score :  0.9892149813713315\n",
      "precisson :  0.9791666666666666\n",
      "recall :  0.9994716682076344\n"
     ]
    }
   ],
   "source": [
    "print('f1-score : ',f1_score(y_test, predictions_rf))\n",
    "print('precisson : ',precision_score(y_test, predictions_rf))\n",
    "print('recall : ', recall_score(y_test, predictions_rf))"
   ]
  },
  {
   "cell_type": "markdown",
   "id": "nM2S4BD4vrUj",
   "metadata": {
    "id": "nM2S4BD4vrUj"
   },
   "source": [
    "### Decision Tree"
   ]
  },
  {
   "cell_type": "code",
   "execution_count": 37,
   "id": "kT3jE1gNvIY8",
   "metadata": {
    "colab": {
     "base_uri": "https://localhost:8080/"
    },
    "id": "kT3jE1gNvIY8",
    "outputId": "5a32a518-70b8-4159-bb06-0b69511d4231"
   },
   "outputs": [
    {
     "name": "stdout",
     "output_type": "stream",
     "text": [
      "Decision Tree Accuracy Score ->  97.2412014954235\n"
     ]
    }
   ],
   "source": [
    "dt = DecisionTreeClassifier()\n",
    "dt.fit(X_train,y_train)\n",
    "predictions_dt = dt.predict(X_test)\n",
    "print(\"Decision Tree Accuracy Score -> \",accuracy_score(predictions_dt, y_test)*100)"
   ]
  },
  {
   "cell_type": "code",
   "execution_count": 38,
   "id": "Zjur2vjywz9V",
   "metadata": {
    "colab": {
     "base_uri": "https://localhost:8080/"
    },
    "id": "Zjur2vjywz9V",
    "outputId": "fbabf822-e243-468c-c101-de899aa98f27"
   },
   "outputs": [
    {
     "name": "stdout",
     "output_type": "stream",
     "text": [
      "              precision    recall  f1-score   support\n",
      "\n",
      "           0       0.41      0.35      0.38       186\n",
      "           1       0.98      0.99      0.99      7571\n",
      "\n",
      "    accuracy                           0.97      7757\n",
      "   macro avg       0.70      0.67      0.68      7757\n",
      "weighted avg       0.97      0.97      0.97      7757\n",
      "\n"
     ]
    }
   ],
   "source": [
    "print(classification_report(y_test, predictions_dt))"
   ]
  },
  {
   "cell_type": "code",
   "execution_count": 39,
   "id": "_1QOVFsc8KGk",
   "metadata": {
    "colab": {
     "base_uri": "https://localhost:8080/"
    },
    "id": "_1QOVFsc8KGk",
    "outputId": "fff58429-8f68-42ef-9449-e4baa8b089fc"
   },
   "outputs": [
    {
     "name": "stdout",
     "output_type": "stream",
     "text": [
      "f1-score :  0.9858932102834542\n",
      "precisson :  0.984076852217397\n",
      "recall :  0.9877162858274997\n"
     ]
    }
   ],
   "source": [
    "print('f1-score : ',f1_score(y_test, predictions_dt))\n",
    "print('precisson : ',precision_score(y_test, predictions_dt))\n",
    "print('recall : ', recall_score(y_test, predictions_dt))"
   ]
  },
  {
   "cell_type": "markdown",
   "id": "Pke4O8tNwSh6",
   "metadata": {
    "id": "Pke4O8tNwSh6"
   },
   "source": [
    "### XgBoost"
   ]
  },
  {
   "cell_type": "code",
   "execution_count": 40,
   "id": "Lx1MJEgNwVe8",
   "metadata": {
    "colab": {
     "base_uri": "https://localhost:8080/"
    },
    "id": "Lx1MJEgNwVe8",
    "outputId": "038b690b-7020-42fa-ac08-c1e9b4a47011"
   },
   "outputs": [
    {
     "name": "stdout",
     "output_type": "stream",
     "text": [
      "[13:26:05] WARNING: ..\\src\\learner.cc:1061: Starting in XGBoost 1.3.0, the default evaluation metric used with the objective 'binary:logistic' was changed from 'error' to 'logloss'. Explicitly set eval_metric if you'd like to restore the old behavior.\n"
     ]
    },
    {
     "name": "stderr",
     "output_type": "stream",
     "text": [
      "C:\\Users\\AIM\\anaconda\\lib\\site-packages\\xgboost\\sklearn.py:888: UserWarning: The use of label encoder in XGBClassifier is deprecated and will be removed in a future release. To remove this warning, do the following: 1) Pass option use_label_encoder=False when constructing XGBClassifier object; and 2) Encode your labels (y) as integers starting with 0, i.e. 0, 1, 2, ..., [num_class - 1].\n",
      "  warnings.warn(label_encoder_deprecation_msg, UserWarning)\n"
     ]
    },
    {
     "name": "stdout",
     "output_type": "stream",
     "text": [
      "XGB Accuracy Score ->  98.05337114863994\n"
     ]
    }
   ],
   "source": [
    "xgb = XGBClassifier()\n",
    "xgb.fit(X_train,y_train)\n",
    "predictions_xgb = xgb.predict(X_test)\n",
    "print(\"XGB Accuracy Score -> \",accuracy_score(predictions_xgb, y_test)*100)"
   ]
  },
  {
   "cell_type": "code",
   "execution_count": 41,
   "id": "VG9J8dXKw2cI",
   "metadata": {
    "colab": {
     "base_uri": "https://localhost:8080/"
    },
    "id": "VG9J8dXKw2cI",
    "outputId": "5dee64ab-c597-4eb6-fb4f-b8210ce011d6"
   },
   "outputs": [
    {
     "name": "stdout",
     "output_type": "stream",
     "text": [
      "              precision    recall  f1-score   support\n",
      "\n",
      "           0       0.69      0.34      0.46       186\n",
      "           1       0.98      1.00      0.99      7571\n",
      "\n",
      "    accuracy                           0.98      7757\n",
      "   macro avg       0.84      0.67      0.72      7757\n",
      "weighted avg       0.98      0.98      0.98      7757\n",
      "\n"
     ]
    }
   ],
   "source": [
    "print(classification_report(y_test, predictions_xgb))"
   ]
  },
  {
   "cell_type": "code",
   "execution_count": 42,
   "id": "q7AsFEFy8QV-",
   "metadata": {
    "colab": {
     "base_uri": "https://localhost:8080/"
    },
    "id": "q7AsFEFy8QV-",
    "outputId": "fd1515b9-af1c-4b02-9885-eb9581ed6750"
   },
   "outputs": [
    {
     "name": "stdout",
     "output_type": "stream",
     "text": [
      "f1-score :  0.9900886117492617\n",
      "precisson :  0.9840814196242171\n",
      "recall :  0.9961695945053494\n"
     ]
    }
   ],
   "source": [
    "print('f1-score : ',f1_score(y_test, predictions_xgb))\n",
    "print('precisson : ',precision_score(y_test, predictions_xgb))\n",
    "print('recall : ', recall_score(y_test, predictions_xgb))"
   ]
  },
  {
   "cell_type": "markdown",
   "id": "3SIbpHKl1OQ8",
   "metadata": {
    "id": "3SIbpHKl1OQ8"
   },
   "source": [
    "# WordCLoud"
   ]
  },
  {
   "cell_type": "code",
   "execution_count": 43,
   "id": "B_U84L-6kVZS",
   "metadata": {
    "colab": {
     "base_uri": "https://localhost:8080/"
    },
    "id": "B_U84L-6kVZS",
    "outputId": "ace3ceb3-0c3f-43cd-f650-8a9905ec3f20"
   },
   "outputs": [
    {
     "name": "stdout",
     "output_type": "stream",
     "text": [
      "There are 2003960 words in the combination of all review.\n"
     ]
    }
   ],
   "source": [
    "text = \" \".join(review for review in df.text)\n",
    "print (\"There are {} words in the combination of all review.\".format(len(text)))"
   ]
  },
  {
   "cell_type": "code",
   "execution_count": 44,
   "id": "PVdYuvb_1Nfx",
   "metadata": {
    "colab": {
     "base_uri": "https://localhost:8080/",
     "height": 248
    },
    "id": "PVdYuvb_1Nfx",
    "outputId": "b03ce5ec-17c8-4a15-f3a5-d73972fa24e7"
   },
   "outputs": [
    {
     "data": {
      "image/png": "[encoded data removed]",
      "text/plain": [
       "<Figure size 432x288 with 1 Axes>"
      ]
     },
     "metadata": {
      "needs_background": "light"
     },
     "output_type": "display_data"
    }
   ],
   "source": [
    "# Create stopword list:\n",
    "stopwords = set(STOPWORDS)\n",
    "#stopwords.update([\"barang\"])\n",
    "\n",
    "# Generate a word cloud image\n",
    "wordcloud = WordCloud(width=1080,height=1080,max_words=100,min_font_size=5, stopwords=stopwords, background_color=\"white\").generate(text)\n",
    "\n",
    "plt.imshow(wordcloud, interpolation='bilinear')\n",
    "plt.axis(\"off\")\n",
    "plt.show()"
   ]
  },
  {
   "cell_type": "code",
   "execution_count": null,
   "id": "lkB-aymR1Pto",
   "metadata": {
    "id": "lkB-aymR1Pto"
   },
   "outputs": [],
   "source": []
  },
  {
   "cell_type": "code",
   "execution_count": null,
   "id": "MVtFySenYvsL",
   "metadata": {
    "id": "MVtFySenYvsL"
   },
   "outputs": [
    {
     "name": "stdout",
     "output_type": "stream",
     "text": [
      " * Serving Flask app \"__main__\" (lazy loading)\n",
      " * Environment: production\n",
      "   WARNING: This is a development server. Do not use it in a production deployment.\n",
      "   Use a production WSGI server instead.\n",
      " * Debug mode: off\n"
     ]
    },
    {
     "name": "stderr",
     "output_type": "stream",
     "text": [
      " * Running on http://127.0.0.1:5000/ (Press CTRL+C to quit)\n",
      "127.0.0.1 - - [18/Sep/2021 13:42:32] \"\u001b[37mGET / HTTP/1.1\u001b[0m\" 200 -\n",
      "127.0.0.1 - - [18/Sep/2021 13:42:35] \"\u001b[37mPOST /predict HTTP/1.1\u001b[0m\" 200 -\n",
      "127.0.0.1 - - [18/Sep/2021 13:42:42] \"\u001b[37mPOST /predict HTTP/1.1\u001b[0m\" 200 -\n",
      "127.0.0.1 - - [18/Sep/2021 13:43:22] \"\u001b[37mPOST /predict HTTP/1.1\u001b[0m\" 200 -\n",
      "127.0.0.1 - - [18/Sep/2021 13:43:46] \"\u001b[31m\u001b[1mPOST /predict HTTP/1.1\u001b[0m\" 400 -\n",
      "127.0.0.1 - - [18/Sep/2021 13:43:48] \"\u001b[37mPOST /predict HTTP/1.1\u001b[0m\" 200 -\n",
      "127.0.0.1 - - [18/Sep/2021 13:43:54] \"\u001b[37mPOST /predict HTTP/1.1\u001b[0m\" 200 -\n",
      "127.0.0.1 - - [18/Sep/2021 13:44:19] \"\u001b[37mPOST /predict HTTP/1.1\u001b[0m\" 200 -\n",
      "127.0.0.1 - - [18/Sep/2021 13:47:20] \"\u001b[37mPOST /predict HTTP/1.1\u001b[0m\" 200 -\n",
      "127.0.0.1 - - [18/Sep/2021 13:47:24] \"\u001b[37mPOST /predict HTTP/1.1\u001b[0m\" 200 -\n",
      "127.0.0.1 - - [18/Sep/2021 13:49:19] \"\u001b[37mPOST /predict HTTP/1.1\u001b[0m\" 200 -\n",
      "127.0.0.1 - - [18/Sep/2021 13:49:23] \"\u001b[37mPOST /predict HTTP/1.1\u001b[0m\" 200 -\n",
      "127.0.0.1 - - [18/Sep/2021 13:49:25] \"\u001b[37mPOST /predict HTTP/1.1\u001b[0m\" 200 -\n",
      "127.0.0.1 - - [18/Sep/2021 14:01:24] \"\u001b[37mPOST /predict HTTP/1.1\u001b[0m\" 200 -\n",
      "127.0.0.1 - - [18/Sep/2021 14:01:38] \"\u001b[37mPOST /predict HTTP/1.1\u001b[0m\" 200 -\n",
      "127.0.0.1 - - [18/Sep/2021 14:01:50] \"\u001b[37mPOST /predict HTTP/1.1\u001b[0m\" 200 -\n",
      "127.0.0.1 - - [18/Sep/2021 14:02:03] \"\u001b[37mPOST /predict HTTP/1.1\u001b[0m\" 200 -\n",
      "127.0.0.1 - - [18/Sep/2021 14:02:24] \"\u001b[37mPOST /predict HTTP/1.1\u001b[0m\" 200 -\n",
      "127.0.0.1 - - [18/Sep/2021 14:03:14] \"\u001b[37mPOST /predict HTTP/1.1\u001b[0m\" 200 -\n",
      "127.0.0.1 - - [18/Sep/2021 14:03:50] \"\u001b[37mPOST /predict HTTP/1.1\u001b[0m\" 200 -\n",
      "127.0.0.1 - - [18/Sep/2021 14:04:26] \"\u001b[37mPOST /predict HTTP/1.1\u001b[0m\" 200 -\n",
      "127.0.0.1 - - [18/Sep/2021 14:04:34] \"\u001b[37mPOST /predict HTTP/1.1\u001b[0m\" 200 -\n",
      "127.0.0.1 - - [18/Sep/2021 14:04:38] \"\u001b[37mPOST /predict HTTP/1.1\u001b[0m\" 200 -\n",
      "127.0.0.1 - - [18/Sep/2021 14:05:16] \"\u001b[37mPOST /predict HTTP/1.1\u001b[0m\" 200 -\n",
      "127.0.0.1 - - [18/Sep/2021 14:05:26] \"\u001b[37mPOST /predict HTTP/1.1\u001b[0m\" 200 -\n",
      "127.0.0.1 - - [18/Sep/2021 14:05:41] \"\u001b[37mPOST /predict HTTP/1.1\u001b[0m\" 200 -\n",
      "127.0.0.1 - - [18/Sep/2021 14:05:56] \"\u001b[37mPOST /predict HTTP/1.1\u001b[0m\" 200 -\n",
      "127.0.0.1 - - [18/Sep/2021 14:06:02] \"\u001b[37mPOST /predict HTTP/1.1\u001b[0m\" 200 -\n",
      "127.0.0.1 - - [18/Sep/2021 14:06:07] \"\u001b[37mPOST /predict HTTP/1.1\u001b[0m\" 200 -\n",
      "127.0.0.1 - - [18/Sep/2021 14:06:09] \"\u001b[37mPOST /predict HTTP/1.1\u001b[0m\" 200 -\n",
      "127.0.0.1 - - [18/Sep/2021 14:06:29] \"\u001b[37mPOST /predict HTTP/1.1\u001b[0m\" 200 -\n",
      "127.0.0.1 - - [18/Sep/2021 14:40:06] \"\u001b[37mPOST /predict HTTP/1.1\u001b[0m\" 200 -\n"
     ]
    }
   ],
   "source": [
    "from flask import Flask,render_template,url_for,request\n",
    "import pandas as pd \n",
    "import pickle\n",
    "from sklearn.feature_extraction.text import CountVectorizer\n",
    "from sklearn.naive_bayes import MultinomialNB\n",
    "#from sklearn.externals import joblib\n",
    "\n",
    "\n",
    "app = Flask(__name__, template_folder = 'template' )\n",
    "\n",
    "# model = pickle.load(open('model_SV.pkl', 'rb'))\n",
    "\n",
    "@app.route('/')\n",
    "def home():\n",
    "    return render_template('form_v2.html')\n",
    "\n",
    "@app.route('/predict',methods=['POST'])\n",
    "def predict():\n",
    "    if request.method == 'POST':\n",
    "        text = request.form['text']\n",
    "        data = [text]\n",
    "        vect = cv.transform(data).toarray()\n",
    "        my_prediction = SVM.predict(vect)\n",
    "    return render_template('form_v2.html', prediction = my_prediction)\n",
    "\n",
    "\n",
    "\n",
    "if __name__ == '__main__':\n",
    "    app.run(debug=False)"
   ]
  },
  {
   "cell_type": "code",
   "execution_count": 47,
   "id": "2535f145",
   "metadata": {},
   "outputs": [
    {
     "ename": "RuntimeError",
     "evalue": "Working outside of request context.\n\nThis typically means that you attempted to use functionality that needed\nan active HTTP request.  Consult the documentation on testing for\ninformation about how to avoid this problem.",
     "output_type": "error",
     "traceback": [
      "\u001b[1;31m---------------------------------------------------------------------------\u001b[0m",
      "\u001b[1;31mRuntimeError\u001b[0m                              Traceback (most recent call last)",
      "\u001b[1;32m<ipython-input-47-90a9bc8f445e>\u001b[0m in \u001b[0;36m<module>\u001b[1;34m\u001b[0m\n\u001b[1;32m----> 1\u001b[1;33m \u001b[0mtext\u001b[0m \u001b[1;33m=\u001b[0m \u001b[0mrequest\u001b[0m\u001b[1;33m.\u001b[0m\u001b[0mform\u001b[0m\u001b[1;33m[\u001b[0m\u001b[1;34m'text'\u001b[0m\u001b[1;33m]\u001b[0m\u001b[1;33m\u001b[0m\u001b[1;33m\u001b[0m\u001b[0m\n\u001b[0m\u001b[0;32m      2\u001b[0m \u001b[0mdata\u001b[0m \u001b[1;33m=\u001b[0m \u001b[1;33m[\u001b[0m\u001b[0mtext\u001b[0m\u001b[1;33m]\u001b[0m\u001b[1;33m\u001b[0m\u001b[1;33m\u001b[0m\u001b[0m\n\u001b[0;32m      3\u001b[0m \u001b[0mvect\u001b[0m \u001b[1;33m=\u001b[0m \u001b[0mcv\u001b[0m\u001b[1;33m.\u001b[0m\u001b[0mtransform\u001b[0m\u001b[1;33m(\u001b[0m\u001b[0mdata\u001b[0m\u001b[1;33m)\u001b[0m\u001b[1;33m.\u001b[0m\u001b[0mtoarray\u001b[0m\u001b[1;33m(\u001b[0m\u001b[1;33m)\u001b[0m\u001b[1;33m\u001b[0m\u001b[1;33m\u001b[0m\u001b[0m\n\u001b[0;32m      4\u001b[0m \u001b[0mmy_prediction\u001b[0m \u001b[1;33m=\u001b[0m \u001b[0mSVM\u001b[0m\u001b[1;33m.\u001b[0m\u001b[0mpredict\u001b[0m\u001b[1;33m(\u001b[0m\u001b[0mvect\u001b[0m\u001b[1;33m)\u001b[0m\u001b[1;33m\u001b[0m\u001b[1;33m\u001b[0m\u001b[0m\n\u001b[0;32m      5\u001b[0m \u001b[0mmy_prediction\u001b[0m\u001b[1;33m\u001b[0m\u001b[1;33m\u001b[0m\u001b[0m\n",
      "\u001b[1;32m~\\anaconda\\lib\\site-packages\\werkzeug\\local.py\u001b[0m in \u001b[0;36m__getattr__\u001b[1;34m(self, name)\u001b[0m\n\u001b[0;32m    345\u001b[0m         \u001b[1;32mif\u001b[0m \u001b[0mname\u001b[0m \u001b[1;33m==\u001b[0m \u001b[1;34m\"__members__\"\u001b[0m\u001b[1;33m:\u001b[0m\u001b[1;33m\u001b[0m\u001b[1;33m\u001b[0m\u001b[0m\n\u001b[0;32m    346\u001b[0m             \u001b[1;32mreturn\u001b[0m \u001b[0mdir\u001b[0m\u001b[1;33m(\u001b[0m\u001b[0mself\u001b[0m\u001b[1;33m.\u001b[0m\u001b[0m_get_current_object\u001b[0m\u001b[1;33m(\u001b[0m\u001b[1;33m)\u001b[0m\u001b[1;33m)\u001b[0m\u001b[1;33m\u001b[0m\u001b[1;33m\u001b[0m\u001b[0m\n\u001b[1;32m--> 347\u001b[1;33m         \u001b[1;32mreturn\u001b[0m \u001b[0mgetattr\u001b[0m\u001b[1;33m(\u001b[0m\u001b[0mself\u001b[0m\u001b[1;33m.\u001b[0m\u001b[0m_get_current_object\u001b[0m\u001b[1;33m(\u001b[0m\u001b[1;33m)\u001b[0m\u001b[1;33m,\u001b[0m \u001b[0mname\u001b[0m\u001b[1;33m)\u001b[0m\u001b[1;33m\u001b[0m\u001b[1;33m\u001b[0m\u001b[0m\n\u001b[0m\u001b[0;32m    348\u001b[0m \u001b[1;33m\u001b[0m\u001b[0m\n\u001b[0;32m    349\u001b[0m     \u001b[1;32mdef\u001b[0m \u001b[0m__setitem__\u001b[0m\u001b[1;33m(\u001b[0m\u001b[0mself\u001b[0m\u001b[1;33m,\u001b[0m \u001b[0mkey\u001b[0m\u001b[1;33m,\u001b[0m \u001b[0mvalue\u001b[0m\u001b[1;33m)\u001b[0m\u001b[1;33m:\u001b[0m\u001b[1;33m\u001b[0m\u001b[1;33m\u001b[0m\u001b[0m\n",
      "\u001b[1;32m~\\anaconda\\lib\\site-packages\\werkzeug\\local.py\u001b[0m in \u001b[0;36m_get_current_object\u001b[1;34m(self)\u001b[0m\n\u001b[0;32m    304\u001b[0m         \"\"\"\n\u001b[0;32m    305\u001b[0m         \u001b[1;32mif\u001b[0m \u001b[1;32mnot\u001b[0m \u001b[0mhasattr\u001b[0m\u001b[1;33m(\u001b[0m\u001b[0mself\u001b[0m\u001b[1;33m.\u001b[0m\u001b[0m__local\u001b[0m\u001b[1;33m,\u001b[0m \u001b[1;34m\"__release_local__\"\u001b[0m\u001b[1;33m)\u001b[0m\u001b[1;33m:\u001b[0m\u001b[1;33m\u001b[0m\u001b[1;33m\u001b[0m\u001b[0m\n\u001b[1;32m--> 306\u001b[1;33m             \u001b[1;32mreturn\u001b[0m \u001b[0mself\u001b[0m\u001b[1;33m.\u001b[0m\u001b[0m__local\u001b[0m\u001b[1;33m(\u001b[0m\u001b[1;33m)\u001b[0m\u001b[1;33m\u001b[0m\u001b[1;33m\u001b[0m\u001b[0m\n\u001b[0m\u001b[0;32m    307\u001b[0m         \u001b[1;32mtry\u001b[0m\u001b[1;33m:\u001b[0m\u001b[1;33m\u001b[0m\u001b[1;33m\u001b[0m\u001b[0m\n\u001b[0;32m    308\u001b[0m             \u001b[1;32mreturn\u001b[0m \u001b[0mgetattr\u001b[0m\u001b[1;33m(\u001b[0m\u001b[0mself\u001b[0m\u001b[1;33m.\u001b[0m\u001b[0m__local\u001b[0m\u001b[1;33m,\u001b[0m \u001b[0mself\u001b[0m\u001b[1;33m.\u001b[0m\u001b[0m__name__\u001b[0m\u001b[1;33m)\u001b[0m\u001b[1;33m\u001b[0m\u001b[1;33m\u001b[0m\u001b[0m\n",
      "\u001b[1;32m~\\anaconda\\lib\\site-packages\\flask\\globals.py\u001b[0m in \u001b[0;36m_lookup_req_object\u001b[1;34m(name)\u001b[0m\n\u001b[0;32m     36\u001b[0m     \u001b[0mtop\u001b[0m \u001b[1;33m=\u001b[0m \u001b[0m_request_ctx_stack\u001b[0m\u001b[1;33m.\u001b[0m\u001b[0mtop\u001b[0m\u001b[1;33m\u001b[0m\u001b[1;33m\u001b[0m\u001b[0m\n\u001b[0;32m     37\u001b[0m     \u001b[1;32mif\u001b[0m \u001b[0mtop\u001b[0m \u001b[1;32mis\u001b[0m \u001b[1;32mNone\u001b[0m\u001b[1;33m:\u001b[0m\u001b[1;33m\u001b[0m\u001b[1;33m\u001b[0m\u001b[0m\n\u001b[1;32m---> 38\u001b[1;33m         \u001b[1;32mraise\u001b[0m \u001b[0mRuntimeError\u001b[0m\u001b[1;33m(\u001b[0m\u001b[0m_request_ctx_err_msg\u001b[0m\u001b[1;33m)\u001b[0m\u001b[1;33m\u001b[0m\u001b[1;33m\u001b[0m\u001b[0m\n\u001b[0m\u001b[0;32m     39\u001b[0m     \u001b[1;32mreturn\u001b[0m \u001b[0mgetattr\u001b[0m\u001b[1;33m(\u001b[0m\u001b[0mtop\u001b[0m\u001b[1;33m,\u001b[0m \u001b[0mname\u001b[0m\u001b[1;33m)\u001b[0m\u001b[1;33m\u001b[0m\u001b[1;33m\u001b[0m\u001b[0m\n\u001b[0;32m     40\u001b[0m \u001b[1;33m\u001b[0m\u001b[0m\n",
      "\u001b[1;31mRuntimeError\u001b[0m: Working outside of request context.\n\nThis typically means that you attempted to use functionality that needed\nan active HTTP request.  Consult the documentation on testing for\ninformation about how to avoid this problem."
     ]
    }
   ],
   "source": [
    "text = request.form['text']\n",
    "data = [text]\n",
    "vect = cv.transform(data).toarray()\n",
    "my_prediction = SVM.predict(vect)\n",
    "my_prediction"
   ]
  },
  {
   "cell_type": "code",
   "execution_count": null,
   "id": "98a0437a",
   "metadata": {},
   "outputs": [],
   "source": []
  }
 ],
 "metadata": {
  "colab": {
   "collapsed_sections": [],
   "name": "NLP_from_Comment_Review_v2.ipynb",
   "provenance": []
  },
  "kernelspec": {
   "display_name": "Python 3",
   "language": "python",
   "name": "python3"
  },
  "language_info": {
   "codemirror_mode": {
    "name": "ipython",
    "version": 3
   },
   "file_extension": ".py",
   "mimetype": "text/x-python",
   "name": "python",
   "nbconvert_exporter": "python",
   "pygments_lexer": "ipython3",
   "version": "3.8.8"
  }
 },
 "nbformat": 4,
 "nbformat_minor": 5
}
